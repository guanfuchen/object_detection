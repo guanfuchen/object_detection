{
 "cells": [
  {
   "cell_type": "code",
   "execution_count": null,
   "metadata": {},
   "outputs": [],
   "source": [
    "%matplotlib inline\n",
    "import matplotlib.pyplot as plt\n",
    "import numpy as np\n",
    "from scipy import misc\n",
    "from sklearn.externals import joblib\n",
    "import os\n",
    "import glob\n",
    "from skimage.feature import hog, local_binary_pattern\n",
    "import cv2"
   ]
  },
  {
   "cell_type": "code",
   "execution_count": null,
   "metadata": {},
   "outputs": [],
   "source": [
    "# hog?\n",
    "# misc.imread?\n",
    "# joblib.dump?\n",
    "# joblib.load?"
   ]
  },
  {
   "cell_type": "markdown",
   "metadata": {},
   "source": [
    "```python\n",
    "hog(image, orientations=9, pixels_per_cell=(8, 8), cells_per_block=(3, 3), block_norm='L1', visualise=False, transform_sqrt=False, feature_vector=True, normalise=None)\n",
    "```"
   ]
  },
  {
   "cell_type": "code",
   "execution_count": null,
   "metadata": {},
   "outputs": [],
   "source": [
    "# settings for LBP\n",
    "radius = 3\n",
    "n_points = 8 * radius"
   ]
  },
  {
   "cell_type": "code",
   "execution_count": null,
   "metadata": {},
   "outputs": [],
   "source": [
    "train_dataset_path = os.path.expanduser('~/Data/VJ_Face/trainset')"
   ]
  },
  {
   "cell_type": "code",
   "execution_count": null,
   "metadata": {},
   "outputs": [],
   "source": [
    "feat_path = '../data/features'\n",
    "feat_pos_path = os.path.join(feat_path, 'pos')\n",
    "feat_neg_path = os.path.join(feat_path, 'neg')"
   ]
  },
  {
   "cell_type": "code",
   "execution_count": null,
   "metadata": {},
   "outputs": [],
   "source": [
    "train_dataset_pos_lists = glob.glob(os.path.join(train_dataset_path, 'faces/*.png'))\n",
    "train_dataset_neg_lists = glob.glob(os.path.join(train_dataset_path, 'non-faces/*.png'))"
   ]
  },
  {
   "cell_type": "code",
   "execution_count": null,
   "metadata": {},
   "outputs": [],
   "source": [
    "# pos hog特征存储\n",
    "for pos_path in train_dataset_pos_lists:\n",
    "    pos_im = cv2.imread(pos_path, cv2.IMREAD_GRAYSCALE)\n",
    "    pos_lbp = local_binary_pattern(pos_im, n_points, radius)\n",
    "    pos_lbp = pos_lbp.reshape(-1)\n",
    "#     print(pos_lbp.shape)\n",
    "    \n",
    "    feat_pos_name = os.path.splitext(os.path.basename(pos_path))[0]+'.feat'\n",
    "    joblib.dump(pos_lbp, os.path.join(feat_pos_path, feat_pos_name))\n",
    "#     break"
   ]
  },
  {
   "cell_type": "code",
   "execution_count": null,
   "metadata": {},
   "outputs": [],
   "source": [
    "# neg hog特征存储\n",
    "for neg_path in train_dataset_neg_lists:\n",
    "    neg_im = cv2.imread(neg_path, cv2.IMREAD_GRAYSCALE)\n",
    "    neg_lbp = local_binary_pattern(pos_im, n_points, radius)\n",
    "    neg_lbp = neg_lbp.reshape(-1)\n",
    "#     print(neg_lbp.shape)\n",
    "\n",
    "    feat_neg_name = os.path.splitext(os.path.basename(neg_path))[0]+'.feat'\n",
    "    joblib.dump(neg_lbp, os.path.join(feat_neg_path, feat_neg_name))\n",
    "#     break"
   ]
  },
  {
   "cell_type": "code",
   "execution_count": null,
   "metadata": {},
   "outputs": [],
   "source": []
  }
 ],
 "metadata": {
  "kernelspec": {
   "display_name": "Python 2",
   "language": "python",
   "name": "python2"
  },
  "language_info": {
   "codemirror_mode": {
    "name": "ipython",
    "version": 2
   },
   "file_extension": ".py",
   "mimetype": "text/x-python",
   "name": "python",
   "nbconvert_exporter": "python",
   "pygments_lexer": "ipython2",
   "version": "2.7.10"
  }
 },
 "nbformat": 4,
 "nbformat_minor": 2
}
