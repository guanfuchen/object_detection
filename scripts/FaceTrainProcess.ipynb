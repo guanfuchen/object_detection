{
 "cells": [
  {
   "cell_type": "code",
   "execution_count": null,
   "metadata": {},
   "outputs": [],
   "source": [
    "%matplotlib inline\n",
    "from sklearn.svm import LinearSVC, SVC\n",
    "import matplotlib.pyplot as plt\n",
    "import numpy as np\n",
    "from scipy import misc\n",
    "from sklearn.externals import joblib\n",
    "import os\n",
    "import glob\n",
    "from skimage.feature import hog"
   ]
  },
  {
   "cell_type": "code",
   "execution_count": null,
   "metadata": {},
   "outputs": [],
   "source": [
    "feat_path = '../data/features'\n",
    "feat_pos_path = os.path.join(feat_path, 'pos')\n",
    "feat_neg_path = os.path.join(feat_path, 'neg')"
   ]
  },
  {
   "cell_type": "code",
   "execution_count": null,
   "metadata": {},
   "outputs": [],
   "source": [
    "train_feat_pos_lists = glob.glob(os.path.join(feat_pos_path, '*.feat'))\n",
    "train_feat_neg_lists = glob.glob(os.path.join(feat_neg_path, '*.feat'))"
   ]
  },
  {
   "cell_type": "code",
   "execution_count": null,
   "metadata": {},
   "outputs": [],
   "source": [
    "X = []\n",
    "y = []\n",
    "# 加载正例样本\n",
    "for feat_pos in train_feat_pos_lists:\n",
    "    feat_pos_data = joblib.load(feat_pos)\n",
    "    X.append(feat_pos_data)\n",
    "    y.append(1)\n",
    "#     print('feat_pos_data.shape:', feat_pos_data.shape)\n",
    "# 加载负例样本\n",
    "for feat_neg in train_feat_neg_lists:\n",
    "    feat_neg_data = joblib.load(feat_neg)\n",
    "    X.append(feat_neg_data)\n",
    "    y.append(0)\n",
    "#     print('feat_neg_data.shape:', feat_neg_data.shape)"
   ]
  },
  {
   "cell_type": "code",
   "execution_count": null,
   "metadata": {},
   "outputs": [],
   "source": [
    "clf = LinearSVC()"
   ]
  },
  {
   "cell_type": "code",
   "execution_count": null,
   "metadata": {},
   "outputs": [],
   "source": [
    "clf.fit(X, y)"
   ]
  },
  {
   "cell_type": "code",
   "execution_count": null,
   "metadata": {},
   "outputs": [],
   "source": [
    "clf.score(X, y)"
   ]
  },
  {
   "cell_type": "code",
   "execution_count": null,
   "metadata": {},
   "outputs": [],
   "source": [
    "model_path = '../data/models'\n",
    "joblib.dump(clf, os.path.join(model_path, 'svm.model'))"
   ]
  },
  {
   "cell_type": "code",
   "execution_count": null,
   "metadata": {},
   "outputs": [],
   "source": [
    "print(X[0].shape)"
   ]
  },
  {
   "cell_type": "code",
   "execution_count": null,
   "metadata": {},
   "outputs": [],
   "source": []
  }
 ],
 "metadata": {
  "kernelspec": {
   "display_name": "Python 2",
   "language": "python",
   "name": "python2"
  },
  "language_info": {
   "codemirror_mode": {
    "name": "ipython",
    "version": 2
   },
   "file_extension": ".py",
   "mimetype": "text/x-python",
   "name": "python",
   "nbconvert_exporter": "python",
   "pygments_lexer": "ipython2",
   "version": "2.7.10"
  }
 },
 "nbformat": 4,
 "nbformat_minor": 2
}
