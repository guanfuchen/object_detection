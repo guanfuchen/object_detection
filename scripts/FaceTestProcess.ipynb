{
 "cells": [
  {
   "cell_type": "code",
   "execution_count": null,
   "metadata": {},
   "outputs": [],
   "source": [
    "%matplotlib inline\n",
    "from sklearn.svm import LinearSVC\n",
    "import matplotlib.pyplot as plt\n",
    "import numpy as np\n",
    "from scipy import misc\n",
    "from sklearn.externals import joblib\n",
    "import os\n",
    "import glob\n",
    "from skimage.feature import hog, local_binary_pattern\n",
    "from skimage.transform import pyramid_gaussian\n",
    "from skimage.io import imread\n",
    "import cv2"
   ]
  },
  {
   "cell_type": "code",
   "execution_count": null,
   "metadata": {},
   "outputs": [],
   "source": [
    "# settings for LBP\n",
    "radius = 3\n",
    "n_points = 8 * radius"
   ]
  },
  {
   "cell_type": "code",
   "execution_count": null,
   "metadata": {},
   "outputs": [],
   "source": [
    "test_image = cv2.imread('../data/images/img_18.jpg', cv2.IMREAD_GRAYSCALE)"
   ]
  },
  {
   "cell_type": "code",
   "execution_count": null,
   "metadata": {},
   "outputs": [],
   "source": [
    "test_image.shape"
   ]
  },
  {
   "cell_type": "code",
   "execution_count": null,
   "metadata": {},
   "outputs": [],
   "source": [
    "test_image.dtype"
   ]
  },
  {
   "cell_type": "code",
   "execution_count": null,
   "metadata": {},
   "outputs": [],
   "source": [
    "plt.imshow(test_image, cmap='gray')"
   ]
  },
  {
   "cell_type": "code",
   "execution_count": null,
   "metadata": {},
   "outputs": [],
   "source": [
    "def sliding_window(image, window_size, step_size):\n",
    "    for row in xrange(0, image.shape[0], step_size[0]):\n",
    "        for col in xrange(0, image.shape[1], step_size[1]):\n",
    "            yield (row, col, image[row:row + window_size[0], col:col + window_size[1]])"
   ]
  },
  {
   "cell_type": "code",
   "execution_count": null,
   "metadata": {},
   "outputs": [],
   "source": [
    "window_size = (19, 19) # 滑窗大小和原训练图像大小相同\n",
    "step_size = (19*3, 19*3)"
   ]
  },
  {
   "cell_type": "code",
   "execution_count": null,
   "metadata": {},
   "outputs": [],
   "source": [
    "model_path = '../data/models'\n",
    "clf = joblib.load(os.path.join(model_path, 'svm.model'))"
   ]
  },
  {
   "cell_type": "code",
   "execution_count": null,
   "metadata": {},
   "outputs": [],
   "source": [
    "scale = 0\n",
    "detections = []\n",
    "downscale=1.25\n",
    "for test_image_pyramid in pyramid_gaussian(test_image, downscale=downscale):\n",
    "    if test_image_pyramid.shape[0] < window_size[0] or test_image_pyramid.shape[1] < window_size[1]:\n",
    "        break\n",
    "    for (row, col, sliding_image) in sliding_window(test_image_pyramid, window_size, step_size):\n",
    "        if sliding_image.shape != window_size:\n",
    "            continue\n",
    "        sliding_image_lbp = local_binary_pattern(sliding_image, n_points, radius)\n",
    "        sliding_image_lbp = sliding_image_lbp.reshape(1, -1)\n",
    "    #     print('sliding_image_lbp.shape:', sliding_image_lbp.shape)\n",
    "        pred = clf.predict(sliding_image_lbp)\n",
    "        if pred==1:\n",
    "#             print('pred:', pred)\n",
    "            pred_prob = clf.decision_function(sliding_image_lbp)\n",
    "#             print('pred_prob:', pred_prob)\n",
    "#             print('scale:', scale)\n",
    "            (window_height, window_width) = window_size\n",
    "            # 返回x，y，pred_prob，width，height\n",
    "            detections.append((int(col*downscale**scale), int(row*downscale**scale), pred_prob, int(window_width*downscale**scale), int(window_height*downscale**scale)))\n",
    "    scale+=1"
   ]
  },
  {
   "cell_type": "code",
   "execution_count": null,
   "metadata": {},
   "outputs": [],
   "source": [
    "test_image_detect = test_image.copy()\n",
    "for detection in detections:\n",
    "    col = detection[0]\n",
    "    row = detection[1]\n",
    "    width = detection[3]\n",
    "    height = detection[4]\n",
    "    cv2.rectangle(test_image_detect, pt1=(col, row), pt2=(col+width, row+height), color=(255, 0, 0), thickness=2)\n",
    "plt.title('before NMS')\n",
    "plt.imshow(test_image_detect)"
   ]
  },
  {
   "cell_type": "code",
   "execution_count": null,
   "metadata": {},
   "outputs": [],
   "source": [
    "def overlapping_area(detection_1, detection_2):\n",
    "    '''\n",
    "    计算两个检测区域覆盖大小，detection：(x，y，pred_prob，width，height)\n",
    "    '''\n",
    "    # Calculate the x-y co-ordinates of the \n",
    "    # rectangles\n",
    "    x1_tl = detection_1[0] # x1 top left\n",
    "    x2_tl = detection_2[0] # x2 top left\n",
    "    x1_br = detection_1[0] + detection_1[3] # x1 bottom right\n",
    "    x2_br = detection_2[0] + detection_2[3] # x2 bottom right\n",
    "    y1_tl = detection_1[1] # y1 top left\n",
    "    y2_tl = detection_2[1] # y2 top left\n",
    "    y1_br = detection_1[1] + detection_1[4] # y1 bottom right\n",
    "    y2_br = detection_2[1] + detection_2[4] # y2 bottom right\n",
    "    # Calculate the overlapping Area\n",
    "    # 计算重叠区域\n",
    "    x_overlap = max(0, min(x1_br, x2_br)-max(x1_tl, x2_tl))\n",
    "    y_overlap = max(0, min(y1_br, y2_br)-max(y1_tl, y2_tl))\n",
    "    overlap_area = x_overlap * y_overlap\n",
    "    area_1 = detection_1[3] * detection_2[4]\n",
    "    area_2 = detection_2[3] * detection_2[4]\n",
    "    total_area = area_1 + area_2 - overlap_area\n",
    "    # 计算重叠区域占比\n",
    "    return overlap_area / float(total_area)"
   ]
  },
  {
   "cell_type": "code",
   "execution_count": null,
   "metadata": {},
   "outputs": [],
   "source": [
    "def nms(detections, threshold=.5):\n",
    "    '''\n",
    "    非极大值抑制减少重叠区域，detection：(x，y，pred_prob，width，height)\n",
    "    '''\n",
    "    if len(detections) == 0:\n",
    "        return []\n",
    "    # Sort the detections based on confidence score\n",
    "    # 根据预测值大小排序预测结果\n",
    "    detections = sorted(detections, key=lambda detections: detections[2], reverse=True)\n",
    "    # Unique detections will be appended to this list\n",
    "    # 非极大值抑制后的检测区域\n",
    "    new_detections=[]\n",
    "    # Append the first detection\n",
    "    # 默认第一个区域置信度最高是正确检测区域\n",
    "    new_detections.append(detections[0])\n",
    "    # Remove the detection from the original list\n",
    "    # 去除以检测为正确的区域\n",
    "    del detections[0]\n",
    "    # For each detection, calculate the overlapping area\n",
    "    # and if area of overlap is less than the threshold set\n",
    "    # for the detections in `new_detections`, append the \n",
    "    # detection to `new_detections`.\n",
    "    # In either case, remove the detection from `detections` list.\n",
    "    for index, detection in enumerate(detections):\n",
    "        overlapping_small = True\n",
    "        for new_detection in new_detections:\n",
    "            # 重叠区域过大，则删除该区域，同时结束检测，过小则继续检测\n",
    "            if overlapping_area(detection, new_detection) > threshold:\n",
    "                overlapping_small = False\n",
    "                del detections[index]\n",
    "                break\n",
    "        if overlapping_small:\n",
    "            # 整个循环中重叠区域都小那么增加\n",
    "            new_detections.append(detection)\n",
    "            del detections[index]\n",
    "    return new_detections"
   ]
  },
  {
   "cell_type": "code",
   "execution_count": null,
   "metadata": {},
   "outputs": [],
   "source": [
    "threshold = 0.5\n",
    "detections_nms = nms(detections, threshold)"
   ]
  },
  {
   "cell_type": "code",
   "execution_count": null,
   "metadata": {},
   "outputs": [],
   "source": [
    "test_image_detect = test_image.copy()\n",
    "for detection in detections_nms:\n",
    "    col = detection[0]\n",
    "    row = detection[1]\n",
    "    width = detection[3]\n",
    "    height = detection[4]\n",
    "    cv2.rectangle(test_image_detect, pt1=(col, row), pt2=(col+width, row+height), color=(255, 0, 0), thickness=2)\n",
    "plt.title('after NMS')\n",
    "plt.imshow(test_image_detect)"
   ]
  },
  {
   "cell_type": "code",
   "execution_count": null,
   "metadata": {},
   "outputs": [],
   "source": []
  }
 ],
 "metadata": {
  "kernelspec": {
   "display_name": "Python 2",
   "language": "python",
   "name": "python2"
  },
  "language_info": {
   "codemirror_mode": {
    "name": "ipython",
    "version": 2
   },
   "file_extension": ".py",
   "mimetype": "text/x-python",
   "name": "python",
   "nbconvert_exporter": "python",
   "pygments_lexer": "ipython2",
   "version": "2.7.10"
  }
 },
 "nbformat": 4,
 "nbformat_minor": 2
}
